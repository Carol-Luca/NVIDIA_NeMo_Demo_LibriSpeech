{
  "nbformat": 4,
  "nbformat_minor": 0,
  "metadata": {
    "colab": {
      "name": "nemo-demo-libri.ipynb",
      "provenance": [],
      "authorship_tag": "ABX9TyOS8q4Wbr6YwlRf9jRjNgRZ",
      "include_colab_link": true
    },
    "kernelspec": {
      "name": "python3",
      "display_name": "Python 3"
    },
    "language_info": {
      "name": "python"
    }
  },
  "cells": [
    {
      "cell_type": "markdown",
      "metadata": {
        "id": "view-in-github",
        "colab_type": "text"
      },
      "source": [
        "<a href=\"https://colab.research.google.com/github/Carol-Luca/NVIDIA_NeMo_Demo_LibriSpeech/blob/main/nemo_demo_libri.ipynb\" target=\"_parent\"><img src=\"https://colab.research.google.com/assets/colab-badge.svg\" alt=\"Open In Colab\"/></a>"
      ]
    },
    {
      "cell_type": "markdown",
      "metadata": {
        "id": "FW152q5iIknO"
      },
      "source": [
        "# Requirements"
      ]
    },
    {
      "cell_type": "code",
      "metadata": {
        "id": "FCgdOF2UF8sV"
      },
      "source": [
        "pip install Cython"
      ],
      "execution_count": null,
      "outputs": []
    },
    {
      "cell_type": "code",
      "metadata": {
        "id": "sPoXjqEiIR16"
      },
      "source": [
        "pip install nemo_toolkit['all']"
      ],
      "execution_count": null,
      "outputs": []
    },
    {
      "cell_type": "code",
      "metadata": {
        "id": "1wf3rKCRIT_w"
      },
      "source": [
        "pip install soundfile"
      ],
      "execution_count": null,
      "outputs": []
    },
    {
      "cell_type": "code",
      "metadata": {
        "id": "BbyPcq8HIVSd"
      },
      "source": [
        "pip install omegaconf"
      ],
      "execution_count": null,
      "outputs": []
    },
    {
      "cell_type": "code",
      "metadata": {
        "id": "Dbyy8QQUIfGj"
      },
      "source": [
        "pip install pytorch-lightning"
      ],
      "execution_count": null,
      "outputs": []
    },
    {
      "cell_type": "code",
      "metadata": {
        "id": "517bX2eQJ2ir"
      },
      "source": [
        "pip install conda"
      ],
      "execution_count": null,
      "outputs": []
    },
    {
      "cell_type": "code",
      "metadata": {
        "id": "-oRteq5AIg0I"
      },
      "source": [
        "conda install -c conda-forge libsndfile"
      ],
      "execution_count": null,
      "outputs": []
    },
    {
      "cell_type": "markdown",
      "metadata": {
        "id": "Z4n-9moqIr9p"
      },
      "source": [
        "# Data Set"
      ]
    },
    {
      "cell_type": "code",
      "metadata": {
        "id": "_0a3PHmAIig_"
      },
      "source": [
        "from wavconvert import create_nemo_manifest"
      ],
      "execution_count": null,
      "outputs": []
    },
    {
      "cell_type": "code",
      "metadata": {
        "id": "70SOdDjhIzT_"
      },
      "source": [
        "flac_path = \"C:/Users/gasan.carol.luca/OneDrive - Accenture/Desktop/Resources/DataSets/LibriSpeech/Clean/dev-clean.tar/LibriSpeech/dev-clean/84/121123/\"\n",
        "meta_apth = \"meta_train.json\"\n",
        "\n",
        "create_nemo_manifest(flac_path,\n",
        "    meta_apth)"
      ],
      "execution_count": null,
      "outputs": []
    },
    {
      "cell_type": "code",
      "metadata": {
        "id": "cLGUdgN8I017"
      },
      "source": [
        "flac_path = \"C:/Users/gasan.carol.luca/OneDrive - Accenture/Desktop/Resources/DataSets/LibriSpeech/Clean/dev-clean.tar/LibriSpeech/dev-clean/84/121550/\"\n",
        "meta_apth = \"meta_val.json\"\n",
        "\n",
        "create_nemo_manifest(flac_path,\n",
        "    meta_apth)"
      ],
      "execution_count": null,
      "outputs": []
    },
    {
      "cell_type": "markdown",
      "metadata": {
        "id": "gS3f8akEI4mb"
      },
      "source": [
        "# Training"
      ]
    },
    {
      "cell_type": "code",
      "metadata": {
        "id": "izgPHAjYI9iQ"
      },
      "source": [
        "from asrtrainer import (train_model,\n",
        "        computer_wer)\n",
        "from ruamel.yaml import YAML"
      ],
      "execution_count": null,
      "outputs": []
    },
    {
      "cell_type": "code",
      "metadata": {
        "id": "AewYQa7KI_SG"
      },
      "source": [
        "config_path = 'quartznet_15x5.yaml'\n",
        "train_manfest = \"metadata.json\"\n",
        "val_manifest = \"metadata_validation.json\"\n",
        "\n",
        "yaml = YAML(typ='safe')\n",
        "with open(config_path) as f:\n",
        "    model_params = yaml.load(f)\n",
        "        \n",
        "my_asr_model = train_model(model_params,\n",
        "                            train_manfest,\n",
        "                            val_manifest,\n",
        "                            5,\n",
        "                            False)\n",
        "    \n",
        "wer = computer_wer(model_params,\n",
        "                    my_asr_model)\n"
      ],
      "execution_count": null,
      "outputs": []
    },
    {
      "cell_type": "markdown",
      "metadata": {
        "id": "xL2HUMAqJFqz"
      },
      "source": [
        "# Saving"
      ]
    },
    {
      "cell_type": "code",
      "metadata": {
        "id": "c34CwaWzJEF0"
      },
      "source": [
        "my_asr_model.save_to(\"tutorial.nemo\")"
      ],
      "execution_count": null,
      "outputs": []
    }
  ]
}